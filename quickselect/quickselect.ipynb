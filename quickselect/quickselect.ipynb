{
 "cells": [
  {
   "cell_type": "code",
   "execution_count": 1,
   "id": "08629191",
   "metadata": {},
   "outputs": [],
   "source": [
    "import math\n",
    "import random\n",
    "import copy"
   ]
  },
  {
   "cell_type": "code",
   "execution_count": 3,
   "id": "5f684b83",
   "metadata": {},
   "outputs": [],
   "source": [
    "# https://www.geeksforgeeks.org/quickselect-algorithm/\n",
    "def partition(arr, l, r):\n",
    "      \n",
    "    x = arr[r]\n",
    "    i = l\n",
    "    for j in range(l, r):\n",
    "          \n",
    "        if arr[j] <= x:\n",
    "            arr[i], arr[j] = arr[j], arr[i]\n",
    "            i += 1\n",
    "              \n",
    "    arr[i], arr[r] = arr[r], arr[i]\n",
    "    return i\n",
    "  \n",
    "# finds the kth position (of the sorted array) \n",
    "# in a given unsorted array i.e this function \n",
    "# can be used to find both kth largest and \n",
    "# kth smallest element in the array. \n",
    "# ASSUMPTION: all elements in arr[] are distinct\n",
    "def kthSmallest(arr, l, r, k):\n",
    "  \n",
    "    # if k is smaller than number of\n",
    "    # elements in array\n",
    "    if (k > 0 and k <= r - l + 1):\n",
    "  \n",
    "        # Partition the array around last\n",
    "        # element and get position of pivot\n",
    "        # element in sorted array\n",
    "        index = partition(arr, l, r)\n",
    "  \n",
    "        # if position is same as k\n",
    "        if (index - l == k - 1):\n",
    "            return arr[index]\n",
    "  \n",
    "        # If position is more, recur \n",
    "        # for left subarray \n",
    "        if (index - l > k - 1):\n",
    "            return kthSmallest(arr, l, index - 1, k)\n",
    "  \n",
    "        # Else recur for right subarray \n",
    "        return kthSmallest(arr, index + 1, r, \n",
    "                            k - index + l - 1)\n",
    "    print(\"Index out of bound\")\n",
    "\n",
    "def run_sim(scores):\n",
    "    array = []\n",
    "\n",
    "    for score in scores:\n",
    "        if score != -1:\n",
    "            array.append(score)\n",
    "        else:\n",
    "            k = len(array) - math.ceil(len(array) * 0.25) - 1\n",
    "            if k >= 0:\n",
    "                ds = copy.deepcopy(array)\n",
    "                bottom_25th_percentile = kthSmallest(ds,0, len(ds)-1, k)\n",
    "\n",
    "                array = [x for x in array if x >= bottom_25th_percentile]\n",
    "\n",
    "    return array\n",
    "\n"
   ]
  },
  {
   "cell_type": "code",
   "execution_count": 4,
   "id": "2eed9ac0",
   "metadata": {},
   "outputs": [
    {
     "name": "stdout",
     "output_type": "stream",
     "text": [
      "[9, 5, 8, 3, 3, 9, 8]\n"
     ]
    }
   ],
   "source": [
    "input_scores = [1, 2, 9, 5, -1, 8, 3, 1, 3, 2, 9, -1, 8]\n",
    "output = run_sim(input_scores)\n",
    "print(output)  # Output: [9, 5, 8, 3, 3, 9, 8]"
   ]
  },
  {
   "cell_type": "code",
   "execution_count": null,
   "id": "648f731b",
   "metadata": {},
   "outputs": [],
   "source": []
  }
 ],
 "metadata": {
  "kernelspec": {
   "display_name": "Python 3",
   "language": "python",
   "name": "python3"
  },
  "language_info": {
   "codemirror_mode": {
    "name": "ipython",
    "version": 3
   },
   "file_extension": ".py",
   "mimetype": "text/x-python",
   "name": "python",
   "nbconvert_exporter": "python",
   "pygments_lexer": "ipython3",
   "version": "3.8.8"
  }
 },
 "nbformat": 4,
 "nbformat_minor": 5
}
